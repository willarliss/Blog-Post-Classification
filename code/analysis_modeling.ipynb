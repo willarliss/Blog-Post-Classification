{
 "cells": [
  {
   "cell_type": "code",
   "execution_count": 40,
   "metadata": {},
   "outputs": [],
   "source": [
    "import os\n",
    "import sys\n",
    "import numpy as np\n",
    "import pandas as pd\n",
    "import matplotlib.pyplot as plt\n",
    "from sklearn.svm import LinearSVC\n",
    "from sklearn.pipeline import Pipeline\n",
    "from sklearn.naive_bayes import MultinomialNB\n",
    "from sklearn.model_selection import train_test_split, StratifiedKFold, GridSearchCV\n",
    "from sklearn.feature_extraction.text import CountVectorizer, TfidfTransformer\n",
    "from sklearn.metrics import f1_score, accuracy_score, recall_score, make_scorer, plot_confusion_matrix\n",
    "\n",
    "#sys.path.append('C:\\\\Users\\\\William\\\\Desktop\\\\Builds')\n",
    "##https://github.com/willarliss/MC-Generate\n",
    "from mc_generate import MCGen"
   ]
  },
  {
   "cell_type": "markdown",
   "metadata": {},
   "source": [
    "---\n",
    "# Training"
   ]
  },
  {
   "cell_type": "markdown",
   "metadata": {},
   "source": [
    "Build a class to hold the model. Load in corpus and set aside a holdout set on initialization. Include methods for upsampling, training, predicting, and evaluating"
   ]
  },
  {
   "cell_type": "code",
   "execution_count": 41,
   "metadata": {},
   "outputs": [],
   "source": [
    "class TextClassifier:\n",
    "    \n",
    "    def __init__(self, fname):\n",
    "        \n",
    "        corpus = pd.read_csv(fname)\n",
    "        \n",
    "        self.X, self.X_test, self.y, self.y_test = train_test_split(\n",
    "            corpus['text'], \n",
    "            corpus['class'],\n",
    "            random_state=42,\n",
    "            stratify=corpus['class'],\n",
    "            )\n",
    "        \n",
    "    def oversample(self, minor, n):\n",
    "    \n",
    "        corpus = pd.DataFrame(zip(self.X, self.y), columns=['text', 'class'])\n",
    "        samples = corpus[corpus['class']==minor]['text'].values\n",
    "        upsampling = pd.DataFrame([], columns=['text', 'class'])\n",
    "\n",
    "        mcg = MCGen(order=3, minimum=5, reduce=True)\n",
    "        mcg.build(samples)\n",
    "        upsampling['text'] = mcg.generate(n)\n",
    "        upsampling['class'] = [minor]*n\n",
    "\n",
    "        corpus = corpus.append(upsampling)\n",
    "        self.X = corpus['text']\n",
    "        self.y = corpus['class']\n",
    "        \n",
    "        return self\n",
    "    \n",
    "    def train(self, classifier, X_train=None, y_train=None, fit=True):\n",
    "        \n",
    "        self.clf = Pipeline([\n",
    "            #('cv', CountVectorizer(max_features=10000, ngram_range=(1,1), stop_words='english')), # LinearSVC imbalanced\n",
    "            ('cv', CountVectorizer(max_features=None, ngram_range=(1,2), stop_words=None)), # LinearSVC balanced\n",
    "            #('cv', CountVectorizer(max_features=10000, ngram_range=(1,3), stop_words='english')), # Multinomial NB\n",
    "            ('tfidf', TfidfTransformer()),\n",
    "            #('tfidf', TfidfTransformer(smooth_idf=True)), # MultinomialNB balanced\n",
    "            ('clf', classifier),\n",
    "            ])\n",
    "        \n",
    "        if fit:\n",
    "            self.clf.fit(X_train, y_train)\n",
    "        \n",
    "        return self.clf       \n",
    "    \n",
    "    def predict(self, X_test):\n",
    "        \n",
    "        self.preds = self.clf.predict(X_test)\n",
    "        \n",
    "        return self.preds\n",
    "    \n",
    "    def evaluate(self, y_test):\n",
    "        \n",
    "        self.score = {\n",
    "            'accuracy': accuracy_score(y_test, self.preds),\n",
    "            'f1_macro': f1_score(y_test, self.preds, average='macro'),\n",
    "            'recall_macro': recall_score(y_test, self.preds, average='macro'),\n",
    "            }\n",
    "        \n",
    "        return self.score"
   ]
  },
  {
   "cell_type": "markdown",
   "metadata": {},
   "source": [
    "Build a function for cross validation to evaluate the performance of different models"
   ]
  },
  {
   "cell_type": "code",
   "execution_count": 42,
   "metadata": {},
   "outputs": [],
   "source": [
    "def cross_validation(brain, name, splits=7): \n",
    "    \n",
    "    cv = StratifiedKFold(n_splits=splits, shuffle=True)\n",
    "    X, y = np.array(brain.X), np.array(brain.y)\n",
    "    \n",
    "    classifiers = { \n",
    "        'NB': MultinomialNB(fit_prior=False, alpha=0.1),\n",
    "        'SVC': LinearSVC(dual=True, C=1.0, loss='squared_hinge', penalty='l2'),\n",
    "        }\n",
    "          \n",
    "    for train_index, test_index in cv.split(X, y):\n",
    "        \n",
    "        X_train, X_test = X[train_index], X[test_index]\n",
    "        y_train, y_test = y[train_index], y[test_index]\n",
    "        \n",
    "        brain.train(classifiers[name], X_train, y_train)\n",
    "        brain.predict(X_test)\n",
    "        \n",
    "        print(brain.evaluate(y_test))"
   ]
  },
  {
   "cell_type": "markdown",
   "metadata": {},
   "source": [
    "Build a function for grid search optimization"
   ]
  },
  {
   "cell_type": "code",
   "execution_count": 43,
   "metadata": {},
   "outputs": [],
   "source": [
    "def grid_search(brain, name): \n",
    "        \n",
    "    classifiers = { \n",
    "        'NB': MultinomialNB(),\n",
    "        'SVC': LinearSVC(),\n",
    "        }\n",
    "    \n",
    "    parameters = {\n",
    "        'NB':{\n",
    "            'clf__alpha': (0.1, 1, 10),\n",
    "            'clf__fit_prior': (True, False),\n",
    "            'cv__stop_words': ('english', None),\n",
    "            'cv__ngram_range': ((1,1), (1,2), (1,3)),\n",
    "            'cv__max_features': (None, 10_000),\n",
    "            'tfidf__norm': ('l1', 'l2'),\n",
    "            'tfidf__smooth_idf': (True, False),\n",
    "            },\n",
    "        'SVC':{\n",
    "            'clf__C': (0.1, 1, 10),\n",
    "            'clf__dual': (True, False),\n",
    "            'clf__penalty': ('l1', 'l2'),\n",
    "            'clf__loss': ('hinge', 'squared_hinge'),\n",
    "            'cv__stop_words': ('english', None),\n",
    "            'cv__ngram_range': ((1,1), (1,2), (1,3)),\n",
    "            'cv__max_features': (None, 10_000),\n",
    "            'tfidf__norm': ('l1', 'l2'),\n",
    "            'tfidf__smooth_idf': (True, False),\n",
    "            },       \n",
    "        }\n",
    "                          \n",
    "    brain.train(classifiers[name], fit=False)\n",
    "    gs_reg = GridSearchCV(brain.clf, parameters[name], cv=3, scoring=['accuracy', 'f1_macro', 'recall_macro'], refit='f1_macro')\n",
    "    gs_reg.fit(np.array(brain.X), np.array(brain.y))\n",
    "\n",
    "    print(name, gs_reg.best_score_, gs_reg.best_params_) "
   ]
  },
  {
   "cell_type": "markdown",
   "metadata": {},
   "source": [
    "---\n",
    "### Imbalanced"
   ]
  },
  {
   "cell_type": "markdown",
   "metadata": {},
   "source": [
    "Optimize both models on an imbalanced corpus. First read in the data and note the stratification"
   ]
  },
  {
   "cell_type": "code",
   "execution_count": 44,
   "metadata": {},
   "outputs": [
    {
     "data": {
      "text/plain": [
       "1    0.480413\n",
       "0    0.444124\n",
       "2    0.075463\n",
       "Name: class, dtype: float64"
      ]
     },
     "execution_count": 44,
     "metadata": {},
     "output_type": "execute_result"
    }
   ],
   "source": [
    "model = TextClassifier('../data/corpus.csv')\n",
    "model.y.value_counts(normalize=True)"
   ]
  },
  {
   "cell_type": "markdown",
   "metadata": {},
   "source": [
    "Perform grid search optimization"
   ]
  },
  {
   "cell_type": "code",
   "execution_count": 46,
   "metadata": {},
   "outputs": [],
   "source": [
    "grid_search(model, 'NB')"
   ]
  },
  {
   "cell_type": "code",
   "execution_count": 47,
   "metadata": {},
   "outputs": [],
   "source": [
    "grid_search(model, 'SVC')"
   ]
  },
  {
   "cell_type": "markdown",
   "metadata": {},
   "source": [
    "Evaluate with cross validation"
   ]
  },
  {
   "cell_type": "code",
   "execution_count": 48,
   "metadata": {},
   "outputs": [],
   "source": [
    "cross_validation(model, 'NB')"
   ]
  },
  {
   "cell_type": "code",
   "execution_count": 49,
   "metadata": {},
   "outputs": [],
   "source": [
    "cross_validation(model, 'SVC')"
   ]
  },
  {
   "cell_type": "markdown",
   "metadata": {},
   "source": [
    "---\n",
    "### Balanced - Oversampled"
   ]
  },
  {
   "cell_type": "markdown",
   "metadata": {},
   "source": [
    "Optimize both models on a balanced corpus. First read in the data, perform synthetic oversampling, and note the new stratification"
   ]
  },
  {
   "cell_type": "code",
   "execution_count": 50,
   "metadata": {},
   "outputs": [
    {
     "data": {
      "text/plain": [
       "1    0.353118\n",
       "0    0.326444\n",
       "2    0.320438\n",
       "Name: class, dtype: float64"
      ]
     },
     "execution_count": 50,
     "metadata": {},
     "output_type": "execute_result"
    }
   ],
   "source": [
    "model = TextClassifier('../data/corpus.csv')\n",
    "model.oversample(minor=2, n=3000)\n",
    "model.y.value_counts(normalize=True)"
   ]
  },
  {
   "cell_type": "markdown",
   "metadata": {},
   "source": [
    "Perform grid search optimization"
   ]
  },
  {
   "cell_type": "code",
   "execution_count": 51,
   "metadata": {},
   "outputs": [],
   "source": [
    "grid_search(model, 'NB')"
   ]
  },
  {
   "cell_type": "code",
   "execution_count": 52,
   "metadata": {},
   "outputs": [],
   "source": [
    "grid_search(model, 'SVC')"
   ]
  },
  {
   "cell_type": "markdown",
   "metadata": {},
   "source": [
    "Evaluate with cross validation"
   ]
  },
  {
   "cell_type": "code",
   "execution_count": 53,
   "metadata": {},
   "outputs": [],
   "source": [
    "cross_validation(model, 'NB')"
   ]
  },
  {
   "cell_type": "code",
   "execution_count": 54,
   "metadata": {},
   "outputs": [],
   "source": [
    "cross_validation(model, 'SVC')"
   ]
  },
  {
   "cell_type": "markdown",
   "metadata": {},
   "source": [
    "---\n",
    "# Testing"
   ]
  },
  {
   "cell_type": "markdown",
   "metadata": {},
   "source": [
    "Build a new class to hold the deployment model. Load in corpus and set aside a holdout set on initialization. Include methods for upsampling, training, predicting, and evaluating"
   ]
  },
  {
   "cell_type": "code",
   "execution_count": 55,
   "metadata": {},
   "outputs": [],
   "source": [
    "class TextClassifier:\n",
    "    \n",
    "    def __init__(self, fname):\n",
    "        \n",
    "        corpus = pd.read_csv(fname)\n",
    "        \n",
    "        self.X, self.X_test, self.y, self.y_test = train_test_split(\n",
    "            corpus['text'], \n",
    "            corpus['class'],\n",
    "            random_state=42,\n",
    "            stratify=corpus['class'],\n",
    "            )\n",
    "        \n",
    "    def oversample(self, minor, n):\n",
    "    \n",
    "        corpus = pd.DataFrame(zip(self.X, self.y), columns=['text', 'class'])\n",
    "        samples = corpus[corpus['class']==minor]['text'].values\n",
    "        upsampling = pd.DataFrame([], columns=['text', 'class'])\n",
    "\n",
    "        mcg = MCGen(order=3, minimum=5, reduce=True)\n",
    "        mcg.build(samples)\n",
    "        upsampling['text'] = mcg.generate(n)\n",
    "        upsampling['class'] = [minor]*n\n",
    "\n",
    "        corpus = corpus.append(upsampling)\n",
    "        self.X = corpus['text']\n",
    "        self.y = corpus['class']\n",
    "        \n",
    "        return self\n",
    "    \n",
    "    def train(self, X_train=None, y_train=None, fit=True):\n",
    "        \n",
    "        self.clf = Pipeline([\n",
    "            ('cv', CountVectorizer(max_features=10000, ngram_range=(1,3), stop_words='english')),\n",
    "            ('tfidf', TfidfTransformer(smooth_idf=True)),\n",
    "            ('nb', MultinomialNB(fit_prior=False, alpha=0.1)),\n",
    "            ])\n",
    "        \n",
    "        if fit:\n",
    "            self.clf.fit(X_train, y_train)\n",
    "        \n",
    "        return self.clf       \n",
    "    \n",
    "    def predict(self, X_test):\n",
    "        \n",
    "        self.preds = self.clf.predict(X_test)\n",
    "        \n",
    "        return self.preds\n",
    "    \n",
    "    def evaluate(self, y_test):\n",
    "        \n",
    "        self.score = {\n",
    "            'accuracy': accuracy_score(y_test, self.preds),\n",
    "            'f1_macro': f1_score(y_test, self.preds, average='macro'),\n",
    "            'recall_macro': recall_score(y_test, self.preds, average='macro'),\n",
    "            }\n",
    "        \n",
    "        return self.score"
   ]
  },
  {
   "cell_type": "markdown",
   "metadata": {},
   "source": [
    "Initialize the model and upsample the minority class (Lewis). Then, check the models training performance"
   ]
  },
  {
   "cell_type": "code",
   "execution_count": 11,
   "metadata": {},
   "outputs": [
    {
     "data": {
      "text/plain": [
       "{'accuracy': 0.9843667196608373,\n",
       " 'f1_macro': 0.9842284943246743,\n",
       " 'recall_macro': 0.9842554615732274}"
      ]
     },
     "execution_count": 11,
     "metadata": {},
     "output_type": "execute_result"
    }
   ],
   "source": [
    "model = TextClassifier('../data/corpus.csv')\n",
    "model.oversample(minor=2, n=3000)\n",
    "\n",
    "model.train(model.X, model.y)\n",
    "model.predict(model.X)\n",
    "model.evaluate(model.y)"
   ]
  },
  {
   "cell_type": "markdown",
   "metadata": {},
   "source": [
    "Evaluate the model's performance on unseen documents"
   ]
  },
  {
   "cell_type": "code",
   "execution_count": 10,
   "metadata": {},
   "outputs": [
    {
     "data": {
      "text/plain": [
       "{'accuracy': 0.9610670511896179,\n",
       " 'f1_macro': 0.928275423718549,\n",
       " 'recall_macro': 0.9352481845391084}"
      ]
     },
     "execution_count": 10,
     "metadata": {},
     "output_type": "execute_result"
    }
   ],
   "source": [
    "model.predict(model.X_test)\n",
    "model.evaluate(model.y_test)"
   ]
  },
  {
   "cell_type": "markdown",
   "metadata": {},
   "source": [
    "---\n",
    "# Analysis"
   ]
  },
  {
   "cell_type": "code",
   "execution_count": 4,
   "metadata": {},
   "outputs": [
    {
     "data": {
      "text/plain": [
       "{2: 'Lewis', 1: 'Martin', 0: 'Tolkien'}"
      ]
     },
     "execution_count": 4,
     "metadata": {},
     "output_type": "execute_result"
    }
   ],
   "source": [
    "mapping = {2: 'Lewis', 1: 'Martin', 0: 'Tolkien'}\n",
    "mapping"
   ]
  },
  {
   "cell_type": "markdown",
   "metadata": {},
   "source": [
    "Plot a confusion matrix on the unseen documents"
   ]
  },
  {
   "cell_type": "code",
   "execution_count": 12,
   "metadata": {},
   "outputs": [
    {
     "data": {
      "text/plain": [
       "<sklearn.metrics._plot.confusion_matrix.ConfusionMatrixDisplay at 0x26799350248>"
      ]
     },
     "execution_count": 12,
     "metadata": {},
     "output_type": "execute_result"
    },
    {
     "data": {
      "image/png": "[encoded data removed]",
      "text/plain": [
       "<Figure size 432x288 with 2 Axes>"
      ]
     },
     "metadata": {
      "needs_background": "light"
     },
     "output_type": "display_data"
    }
   ],
   "source": [
    "model = TextClassifier('../data/corpus.csv')\n",
    "model.oversample(minor=2, n=3000)\n",
    "\n",
    "plot_confusion_matrix(\n",
    "    model.train(model.X, model.y),\n",
    "    model.X_test,\n",
    "    model.y_test,\n",
    "    normalize='true',\n",
    "    display_labels=['Tolkien', 'Martin', 'Lewis'],\n",
    "    cmap=plt.cm.bone,    \n",
    "    )"
   ]
  },
  {
   "cell_type": "markdown",
   "metadata": {},
   "source": [
    "---"
   ]
  },
  {
   "cell_type": "markdown",
   "metadata": {},
   "source": [
    "Create sparse matrix from corpus"
   ]
  },
  {
   "cell_type": "code",
   "execution_count": 35,
   "metadata": {},
   "outputs": [],
   "source": [
    "model = TextClassifier('../data/corpus.csv')\n",
    "\n",
    "cv = CountVectorizer(\n",
    "    max_features=10000, \n",
    "    ngram_range=(1,3), \n",
    "    stop_words='english',\n",
    "    )\n",
    "\n",
    "df = pd.DataFrame(zip(model.y, model.X), columns=['class', 'text'])\n",
    "\n",
    "bag = cv.fit_transform(df['text'])\n",
    "bag = pd.DataFrame(bag.toarray(), columns=[cv.get_feature_names()])\n",
    "\n",
    "df = pd.merge(df, bag, left_index=True, right_index=True)"
   ]
  },
  {
   "cell_type": "markdown",
   "metadata": {},
   "source": [
    "---"
   ]
  },
  {
   "cell_type": "markdown",
   "metadata": {},
   "source": [
    "Identify how many unique words each class has then list the top 5 most frequent unique words for each class"
   ]
  },
  {
   "cell_type": "code",
   "execution_count": 36,
   "metadata": {},
   "outputs": [
    {
     "name": "stdout",
     "output_type": "stream",
     "text": [
      "37 2072 640\n",
      "\n",
      "(prince caspian,)      34\n",
      "(magicians nephew,)    39\n",
      "(silver chair,)        45\n",
      "(caspian,)             51\n",
      "(susan,)               63\n",
      "dtype: int64\n",
      "\n",
      "(sansa,)      763\n",
      "(tyrion,)     773\n",
      "(bran,)       865\n",
      "(dany,)      1051\n",
      "(jon,)       2000\n",
      "dtype: int64\n",
      "\n",
      "(balrog,)       132\n",
      "(eru,)          153\n",
      "(arda,)         157\n",
      "(galadriel,)    190\n",
      "(morgoth,)      273\n",
      "dtype: int64\n"
     ]
    }
   ],
   "source": [
    "words = df[df['class']==2][bag.columns].sum().sort_values()\n",
    "lewis_words = set(i[0] for i in list(words[words>0].index))\n",
    "\n",
    "words = df[df['class']==1][bag.columns].sum().sort_values()\n",
    "martin_words = set(i[0] for i in list(words[words>0].index))\n",
    "\n",
    "words = df[df['class']==0][bag.columns].sum().sort_values()\n",
    "tolkien_words = set(i[0] for i in list(words[words>0].index))\n",
    "\n",
    "lewis_words_unique = lewis_words.difference(martin_words, tolkien_words)\n",
    "martin_words_unique = martin_words.difference(lewis_words, tolkien_words)\n",
    "tolkien_words_unique = tolkien_words.difference(martin_words, lewis_words)\n",
    "\n",
    "print(len(lewis_words_unique), len(martin_words_unique), len(tolkien_words_unique))\n",
    "\n",
    "print()\n",
    "\n",
    "columns = [col for col in list(bag.columns) if col[0] in lewis_words_unique]\n",
    "print(df[df['class']==2][columns].sum().sort_values().tail(5))\n",
    "\n",
    "print()\n",
    "\n",
    "columns = [col for col in list(bag.columns) if col[0] in martin_words_unique]\n",
    "print(df[df['class']==1][columns].sum().sort_values().tail(5))\n",
    "\n",
    "print()\n",
    "\n",
    "columns = [col for col in list(bag.columns) if col[0] in tolkien_words_unique]\n",
    "print(df[df['class']==0][columns].sum().sort_values().tail(5))"
   ]
  },
  {
   "cell_type": "markdown",
   "metadata": {},
   "source": [
    "---"
   ]
  },
  {
   "cell_type": "markdown",
   "metadata": {},
   "source": [
    "Find the intersection of words in each class"
   ]
  },
  {
   "cell_type": "code",
   "execution_count": 37,
   "metadata": {},
   "outputs": [
    {
     "name": "stdout",
     "output_type": "stream",
     "text": [
      "91 55 4309\n",
      "\n",
      "lewis and martin, not tolkien\n",
      "(castles,)           32\n",
      "(entire series,)     34\n",
      "(trap,)              37\n",
      "(islands,)           91\n",
      "(castle,)           147\n",
      "dtype: int64\n",
      "\n",
      "lewis and tolkien, not martin\n",
      "(aslan,)      68\n",
      "(lewis,)      74\n",
      "(smaug,)     113\n",
      "(mordor,)    158\n",
      "(narnia,)    374\n",
      "dtype: int64\n",
      "\n",
      "martin and tolkien, not tolkien\n",
      "(tolkiens,)        513\n",
      "(middle earth,)    576\n",
      "(elves,)           590\n",
      "(stark,)           678\n",
      "(grrm,)            752\n",
      "dtype: int64\n"
     ]
    }
   ],
   "source": [
    "words = df[df['class']==2][bag.columns].sum().sort_values()\n",
    "lewis_words = set(i[0] for i in list(words[words>0].index))\n",
    "\n",
    "words = df[df['class']==1][bag.columns].sum().sort_values()\n",
    "martin_words = set(i[0] for i in list(words[words>0].index))\n",
    "\n",
    "words = df[df['class']==0][bag.columns].sum().sort_values()\n",
    "tolkien_words = set(i[0] for i in list(words[words>0].index))\n",
    "\n",
    "lewis_martin = (lewis_words&martin_words).difference(tolkien_words)\n",
    "lewis_tolkien = (lewis_words&tolkien_words).difference(martin_words)\n",
    "martin_tolkien = (martin_words&tolkien_words).difference(lewis_words)\n",
    "\n",
    "print(len(lewis_martin), len(lewis_tolkien), len(martin_tolkien))\n",
    "\n",
    "print()\n",
    "\n",
    "columns = [col for col in list(bag.columns) if col[0] in lewis_martin]\n",
    "print('lewis and martin, not tolkien')\n",
    "print(df[(df['class']==2) | (df['class']==1)][columns].sum().sort_values().tail(5))\n",
    "\n",
    "print()\n",
    "\n",
    "columns = [col for col in list(bag.columns) if col[0] in lewis_tolkien]\n",
    "print('lewis and tolkien, not martin')\n",
    "print(df[(df['class']==2) | (df['class']==0)][columns].sum().sort_values().tail(5))\n",
    "\n",
    "print()\n",
    "\n",
    "columns = [col for col in list(bag.columns) if col[0] in martin_tolkien]\n",
    "print('martin and tolkien, not tolkien')\n",
    "print(df[(df['class']==1) | (df['class']==0)][columns].sum().sort_values().tail(5))"
   ]
  },
  {
   "cell_type": "code",
   "execution_count": null,
   "metadata": {},
   "outputs": [],
   "source": []
  }
 ],
 "metadata": {
  "kernelspec": {
   "display_name": "Python 3",
   "language": "python",
   "name": "python3"
  },
  "language_info": {
   "codemirror_mode": {
    "name": "ipython",
    "version": 3
   },
   "file_extension": ".py",
   "mimetype": "text/x-python",
   "name": "python",
   "nbconvert_exporter": "python",
   "pygments_lexer": "ipython3",
   "version": "3.7.7"
  }
 },
 "nbformat": 4,
 "nbformat_minor": 4
}
