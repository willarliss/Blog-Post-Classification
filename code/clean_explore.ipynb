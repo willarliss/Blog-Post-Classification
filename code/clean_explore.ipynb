{
 "cells": [
  {
   "cell_type": "code",
   "execution_count": 16,
   "metadata": {},
   "outputs": [],
   "source": [
    "import sys\n",
    "import os\n",
    "import numpy as np\n",
    "import pandas as pd\n",
    "import string"
   ]
  },
  {
   "cell_type": "code",
   "execution_count": 17,
   "metadata": {},
   "outputs": [
    {
     "data": {
      "text/plain": [
       "(11594, 3)"
      ]
     },
     "execution_count": 17,
     "metadata": {},
     "output_type": "execute_result"
    }
   ],
   "source": [
    "corpus_raw = pd.read_csv('../data/corpus_raw.csv')\n",
    "corpus_raw.shape"
   ]
  },
  {
   "cell_type": "markdown",
   "metadata": {},
   "source": [
    "---\n",
    "# Raw Exploration"
   ]
  },
  {
   "cell_type": "markdown",
   "metadata": {},
   "source": [
    "Note the stratification of the three classes"
   ]
  },
  {
   "cell_type": "code",
   "execution_count": 18,
   "metadata": {},
   "outputs": [
    {
     "data": {
      "text/plain": [
       "asoiaf         0.463688\n",
       "tolkienfans    0.452820\n",
       "Narnia         0.083491\n",
       "Name: class, dtype: float64"
      ]
     },
     "execution_count": 18,
     "metadata": {},
     "output_type": "execute_result"
    }
   ],
   "source": [
    "corpus_raw['class'].value_counts(normalize=True)"
   ]
  },
  {
   "cell_type": "markdown",
   "metadata": {},
   "source": [
    "Display 10 posts from the Tolkien class"
   ]
  },
  {
   "cell_type": "code",
   "execution_count": 28,
   "metadata": {},
   "outputs": [
    {
     "data": {
      "text/html": [
       "<div>\n",
       "<style scoped>\n",
       "    .dataframe tbody tr th:only-of-type {\n",
       "        vertical-align: middle;\n",
       "    }\n",
       "\n",
       "    .dataframe tbody tr th {\n",
       "        vertical-align: top;\n",
       "    }\n",
       "\n",
       "    .dataframe thead th {\n",
       "        text-align: right;\n",
       "    }\n",
       "</style>\n",
       "<table border=\"1\" class=\"dataframe\">\n",
       "  <thead>\n",
       "    <tr style=\"text-align: right;\">\n",
       "      <th></th>\n",
       "      <th>class</th>\n",
       "      <th>id</th>\n",
       "      <th>text</th>\n",
       "    </tr>\n",
       "  </thead>\n",
       "  <tbody>\n",
       "    <tr>\n",
       "      <th>0</th>\n",
       "      <td>tolkienfans</td>\n",
       "      <td>hbzj1y0</td>\n",
       "      <td>[https://www.bbc.co.uk/news/entertainment-arts...</td>\n",
       "    </tr>\n",
       "    <tr>\n",
       "      <th>1</th>\n",
       "      <td>tolkienfans</td>\n",
       "      <td>hbzj1y1</td>\n",
       "      <td>RIP Bilbo. Ian Holm, has passed away aged 88</td>\n",
       "    </tr>\n",
       "    <tr>\n",
       "      <th>2</th>\n",
       "      <td>tolkienfans</td>\n",
       "      <td>2subbe0</td>\n",
       "      <td>Let me start by saying that I enjoy many aspec...</td>\n",
       "    </tr>\n",
       "    <tr>\n",
       "      <th>3</th>\n",
       "      <td>tolkienfans</td>\n",
       "      <td>2subbe1</td>\n",
       "      <td>I have recut PJ’s Hobbit trilogy into a single...</td>\n",
       "    </tr>\n",
       "    <tr>\n",
       "      <th>4</th>\n",
       "      <td>tolkienfans</td>\n",
       "      <td>eqrkgb1</td>\n",
       "      <td>It was awfully nice of the 13 Dwarves to empty...</td>\n",
       "    </tr>\n",
       "    <tr>\n",
       "      <th>5</th>\n",
       "      <td>tolkienfans</td>\n",
       "      <td>ac25a01</td>\n",
       "      <td>127 years ago today J.R.R. Tolkien was born; H...</td>\n",
       "    </tr>\n",
       "    <tr>\n",
       "      <th>6</th>\n",
       "      <td>tolkienfans</td>\n",
       "      <td>dzlvf80</td>\n",
       "      <td>We all owe him an enormous debt for his years ...</td>\n",
       "    </tr>\n",
       "    <tr>\n",
       "      <th>7</th>\n",
       "      <td>tolkienfans</td>\n",
       "      <td>dzlvf81</td>\n",
       "      <td>Happy birthday to Christopher Tolkien who turn...</td>\n",
       "    </tr>\n",
       "    <tr>\n",
       "      <th>8</th>\n",
       "      <td>tolkienfans</td>\n",
       "      <td>cwre6j0</td>\n",
       "      <td>The forklift comes equipped with a Japanese NI...</td>\n",
       "    </tr>\n",
       "    <tr>\n",
       "      <th>9</th>\n",
       "      <td>tolkienfans</td>\n",
       "      <td>cwre6j1</td>\n",
       "      <td>I'm just wondering, what was Tolkien's opinion...</td>\n",
       "    </tr>\n",
       "  </tbody>\n",
       "</table>\n",
       "</div>"
      ],
      "text/plain": [
       "         class       id                                               text\n",
       "0  tolkienfans  hbzj1y0  [https://www.bbc.co.uk/news/entertainment-arts...\n",
       "1  tolkienfans  hbzj1y1       RIP Bilbo. Ian Holm, has passed away aged 88\n",
       "2  tolkienfans  2subbe0  Let me start by saying that I enjoy many aspec...\n",
       "3  tolkienfans  2subbe1  I have recut PJ’s Hobbit trilogy into a single...\n",
       "4  tolkienfans  eqrkgb1  It was awfully nice of the 13 Dwarves to empty...\n",
       "5  tolkienfans  ac25a01  127 years ago today J.R.R. Tolkien was born; H...\n",
       "6  tolkienfans  dzlvf80  We all owe him an enormous debt for his years ...\n",
       "7  tolkienfans  dzlvf81  Happy birthday to Christopher Tolkien who turn...\n",
       "8  tolkienfans  cwre6j0  The forklift comes equipped with a Japanese NI...\n",
       "9  tolkienfans  cwre6j1  I'm just wondering, what was Tolkien's opinion..."
      ]
     },
     "execution_count": 28,
     "metadata": {},
     "output_type": "execute_result"
    }
   ],
   "source": [
    "corpus_raw[corpus_raw['class']=='tolkienfans'].head(10)"
   ]
  },
  {
   "cell_type": "markdown",
   "metadata": {},
   "source": [
    "Display 10 posts from the Martin class"
   ]
  },
  {
   "cell_type": "code",
   "execution_count": 20,
   "metadata": {},
   "outputs": [
    {
     "data": {
      "text/html": [
       "<div>\n",
       "<style scoped>\n",
       "    .dataframe tbody tr th:only-of-type {\n",
       "        vertical-align: middle;\n",
       "    }\n",
       "\n",
       "    .dataframe tbody tr th {\n",
       "        vertical-align: top;\n",
       "    }\n",
       "\n",
       "    .dataframe thead th {\n",
       "        text-align: right;\n",
       "    }\n",
       "</style>\n",
       "<table border=\"1\" class=\"dataframe\">\n",
       "  <thead>\n",
       "    <tr style=\"text-align: right;\">\n",
       "      <th></th>\n",
       "      <th>class</th>\n",
       "      <th>id</th>\n",
       "      <th>text</th>\n",
       "    </tr>\n",
       "  </thead>\n",
       "  <tbody>\n",
       "    <tr>\n",
       "      <th>1892</th>\n",
       "      <td>asoiaf</td>\n",
       "      <td>bo4ae60</td>\n",
       "      <td>In the inside the episode (which they need to ...</td>\n",
       "    </tr>\n",
       "    <tr>\n",
       "      <th>1893</th>\n",
       "      <td>asoiaf</td>\n",
       "      <td>bo4ae61</td>\n",
       "      <td>(Spoilers Extended) It should have been Davos</td>\n",
       "    </tr>\n",
       "    <tr>\n",
       "      <th>1894</th>\n",
       "      <td>asoiaf</td>\n",
       "      <td>bld81n0</td>\n",
       "      <td>The Bronn scene in S08E04 is some of the worst...</td>\n",
       "    </tr>\n",
       "    <tr>\n",
       "      <th>1895</th>\n",
       "      <td>asoiaf</td>\n",
       "      <td>bld81n1</td>\n",
       "      <td>[Spoilers Main] We need to talk about that Bro...</td>\n",
       "    </tr>\n",
       "    <tr>\n",
       "      <th>1896</th>\n",
       "      <td>asoiaf</td>\n",
       "      <td>bmxp8p1</td>\n",
       "      <td>(Spoilers Main) Euron actor Pilou Asbæk wishes...</td>\n",
       "    </tr>\n",
       "    <tr>\n",
       "      <th>1897</th>\n",
       "      <td>asoiaf</td>\n",
       "      <td>bny8be0</td>\n",
       "      <td>That was it. That was the scouring of the shir...</td>\n",
       "    </tr>\n",
       "    <tr>\n",
       "      <th>1898</th>\n",
       "      <td>asoiaf</td>\n",
       "      <td>bny8be1</td>\n",
       "      <td>(Spoilers Main) We just witnessed GRRM's endin...</td>\n",
       "    </tr>\n",
       "    <tr>\n",
       "      <th>1899</th>\n",
       "      <td>asoiaf</td>\n",
       "      <td>bipfrd0</td>\n",
       "      <td>I love this show, and taking the show for what...</td>\n",
       "    </tr>\n",
       "    <tr>\n",
       "      <th>1900</th>\n",
       "      <td>asoiaf</td>\n",
       "      <td>bipfrd1</td>\n",
       "      <td>(Spoilers Extended) The show has finally becom...</td>\n",
       "    </tr>\n",
       "    <tr>\n",
       "      <th>1901</th>\n",
       "      <td>asoiaf</td>\n",
       "      <td>bozxfa0</td>\n",
       "      <td>The remaining 1% is Olly. \\n\\nFor real though,...</td>\n",
       "    </tr>\n",
       "  </tbody>\n",
       "</table>\n",
       "</div>"
      ],
      "text/plain": [
       "       class       id                                               text\n",
       "1892  asoiaf  bo4ae60  In the inside the episode (which they need to ...\n",
       "1893  asoiaf  bo4ae61      (Spoilers Extended) It should have been Davos\n",
       "1894  asoiaf  bld81n0  The Bronn scene in S08E04 is some of the worst...\n",
       "1895  asoiaf  bld81n1  [Spoilers Main] We need to talk about that Bro...\n",
       "1896  asoiaf  bmxp8p1  (Spoilers Main) Euron actor Pilou Asbæk wishes...\n",
       "1897  asoiaf  bny8be0  That was it. That was the scouring of the shir...\n",
       "1898  asoiaf  bny8be1  (Spoilers Main) We just witnessed GRRM's endin...\n",
       "1899  asoiaf  bipfrd0  I love this show, and taking the show for what...\n",
       "1900  asoiaf  bipfrd1  (Spoilers Extended) The show has finally becom...\n",
       "1901  asoiaf  bozxfa0  The remaining 1% is Olly. \\n\\nFor real though,..."
      ]
     },
     "execution_count": 20,
     "metadata": {},
     "output_type": "execute_result"
    }
   ],
   "source": [
    "corpus_raw[corpus_raw['class']=='asoiaf'].head(10)"
   ]
  },
  {
   "cell_type": "markdown",
   "metadata": {},
   "source": [
    "Display 10 posts from the Lewis class"
   ]
  },
  {
   "cell_type": "code",
   "execution_count": 21,
   "metadata": {},
   "outputs": [
    {
     "data": {
      "text/html": [
       "<div>\n",
       "<style scoped>\n",
       "    .dataframe tbody tr th:only-of-type {\n",
       "        vertical-align: middle;\n",
       "    }\n",
       "\n",
       "    .dataframe tbody tr th {\n",
       "        vertical-align: top;\n",
       "    }\n",
       "\n",
       "    .dataframe thead th {\n",
       "        text-align: right;\n",
       "    }\n",
       "</style>\n",
       "<table border=\"1\" class=\"dataframe\">\n",
       "  <thead>\n",
       "    <tr style=\"text-align: right;\">\n",
       "      <th></th>\n",
       "      <th>class</th>\n",
       "      <th>id</th>\n",
       "      <th>text</th>\n",
       "    </tr>\n",
       "  </thead>\n",
       "  <tbody>\n",
       "    <tr>\n",
       "      <th>3504</th>\n",
       "      <td>Narnia</td>\n",
       "      <td>hr9xrl1</td>\n",
       "      <td>My Narnia books and bookends</td>\n",
       "    </tr>\n",
       "    <tr>\n",
       "      <th>3505</th>\n",
       "      <td>Narnia</td>\n",
       "      <td>fvblba1</td>\n",
       "      <td>Real life version of the forest between worlds</td>\n",
       "    </tr>\n",
       "    <tr>\n",
       "      <th>3506</th>\n",
       "      <td>Narnia</td>\n",
       "      <td>gcxc5l1</td>\n",
       "      <td>Oh Susan, such a meme</td>\n",
       "    </tr>\n",
       "    <tr>\n",
       "      <th>3507</th>\n",
       "      <td>Narnia</td>\n",
       "      <td>eo7ok91</td>\n",
       "      <td>Rereading these for the first time since middl...</td>\n",
       "    </tr>\n",
       "    <tr>\n",
       "      <th>3508</th>\n",
       "      <td>Narnia</td>\n",
       "      <td>hiwym81</td>\n",
       "      <td>My sister channeled my love of Narnia into thi...</td>\n",
       "    </tr>\n",
       "    <tr>\n",
       "      <th>3509</th>\n",
       "      <td>Narnia</td>\n",
       "      <td>g9i4rc1</td>\n",
       "      <td>Diy Turkish Delights Box</td>\n",
       "    </tr>\n",
       "    <tr>\n",
       "      <th>3510</th>\n",
       "      <td>Narnia</td>\n",
       "      <td>ev31281</td>\n",
       "      <td>I drew Aslan 😊 I'm not an artist by any means....</td>\n",
       "    </tr>\n",
       "    <tr>\n",
       "      <th>3511</th>\n",
       "      <td>Narnia</td>\n",
       "      <td>fldwhv1</td>\n",
       "      <td>When the Pevensies were isolated...</td>\n",
       "    </tr>\n",
       "    <tr>\n",
       "      <th>3512</th>\n",
       "      <td>Narnia</td>\n",
       "      <td>hvvai81</td>\n",
       "      <td>There are not enough memes on this subreddit. ...</td>\n",
       "    </tr>\n",
       "    <tr>\n",
       "      <th>3513</th>\n",
       "      <td>Narnia</td>\n",
       "      <td>emg8v51</td>\n",
       "      <td>Narnia!</td>\n",
       "    </tr>\n",
       "  </tbody>\n",
       "</table>\n",
       "</div>"
      ],
      "text/plain": [
       "       class       id                                               text\n",
       "3504  Narnia  hr9xrl1                       My Narnia books and bookends\n",
       "3505  Narnia  fvblba1     Real life version of the forest between worlds\n",
       "3506  Narnia  gcxc5l1                              Oh Susan, such a meme\n",
       "3507  Narnia  eo7ok91  Rereading these for the first time since middl...\n",
       "3508  Narnia  hiwym81  My sister channeled my love of Narnia into thi...\n",
       "3509  Narnia  g9i4rc1                           Diy Turkish Delights Box\n",
       "3510  Narnia  ev31281  I drew Aslan 😊 I'm not an artist by any means....\n",
       "3511  Narnia  fldwhv1                When the Pevensies were isolated...\n",
       "3512  Narnia  hvvai81  There are not enough memes on this subreddit. ...\n",
       "3513  Narnia  emg8v51                                            Narnia!"
      ]
     },
     "execution_count": 21,
     "metadata": {},
     "output_type": "execute_result"
    }
   ],
   "source": [
    "corpus_raw[corpus_raw['class']=='Narnia'].head(10)"
   ]
  },
  {
   "cell_type": "markdown",
   "metadata": {},
   "source": [
    "---\n",
    "# Cleaning"
   ]
  },
  {
   "cell_type": "markdown",
   "metadata": {},
   "source": [
    "Create a function to remove special characters, punctuation, capitalization, extra whitespace, and hyper-links"
   ]
  },
  {
   "cell_type": "code",
   "execution_count": 29,
   "metadata": {},
   "outputs": [],
   "source": [
    "special = list(string.punctuation)\n",
    "special.remove('-')\n",
    "special.append('’')\n",
    "special.append('“')\n",
    "special.append('”')\n",
    "\n",
    "def cleaner(status):\n",
    "    \n",
    "    status = status.replace('-', ' ')\n",
    "    status = status.replace('–', ' ')\n",
    "    status = status.replace('—', ' ')\n",
    "    status = status.replace('\\t', ' ')\n",
    "    status = status.replace('\\n', ' ')\n",
    "\n",
    "    for item in special:\n",
    "        status = status.replace(item, '')\n",
    "\n",
    "    status = [word.lower() for word in status.split() if 'http' not in word]    \n",
    "    status = ' '.join(status)\n",
    "    \n",
    "    return status\n",
    "    "
   ]
  },
  {
   "cell_type": "markdown",
   "metadata": {},
   "source": [
    "Apply function to corpus"
   ]
  },
  {
   "cell_type": "code",
   "execution_count": 23,
   "metadata": {},
   "outputs": [
    {
     "data": {
      "text/html": [
       "<div>\n",
       "<style scoped>\n",
       "    .dataframe tbody tr th:only-of-type {\n",
       "        vertical-align: middle;\n",
       "    }\n",
       "\n",
       "    .dataframe tbody tr th {\n",
       "        vertical-align: top;\n",
       "    }\n",
       "\n",
       "    .dataframe thead th {\n",
       "        text-align: right;\n",
       "    }\n",
       "</style>\n",
       "<table border=\"1\" class=\"dataframe\">\n",
       "  <thead>\n",
       "    <tr style=\"text-align: right;\">\n",
       "      <th></th>\n",
       "      <th>text</th>\n",
       "    </tr>\n",
       "  </thead>\n",
       "  <tbody>\n",
       "    <tr>\n",
       "      <th>0</th>\n",
       "      <td>arts arts 13960349</td>\n",
       "    </tr>\n",
       "    <tr>\n",
       "      <th>1</th>\n",
       "      <td>rip bilbo ian holm has passed away aged 88</td>\n",
       "    </tr>\n",
       "    <tr>\n",
       "      <th>2</th>\n",
       "      <td>let me start by saying that i enjoy many aspec...</td>\n",
       "    </tr>\n",
       "    <tr>\n",
       "      <th>3</th>\n",
       "      <td>i have recut pjs hobbit trilogy into a single ...</td>\n",
       "    </tr>\n",
       "    <tr>\n",
       "      <th>4</th>\n",
       "      <td>it was awfully nice of the 13 dwarves to empty...</td>\n",
       "    </tr>\n",
       "  </tbody>\n",
       "</table>\n",
       "</div>"
      ],
      "text/plain": [
       "                                                text\n",
       "0                                 arts arts 13960349\n",
       "1         rip bilbo ian holm has passed away aged 88\n",
       "2  let me start by saying that i enjoy many aspec...\n",
       "3  i have recut pjs hobbit trilogy into a single ...\n",
       "4  it was awfully nice of the 13 dwarves to empty..."
      ]
     },
     "execution_count": 23,
     "metadata": {},
     "output_type": "execute_result"
    }
   ],
   "source": [
    "corpus_clean = pd.DataFrame([])\n",
    "corpus_clean['text'] = corpus_raw['text'].apply(cleaner)\n",
    "corpus_clean.head()"
   ]
  },
  {
   "cell_type": "markdown",
   "metadata": {},
   "source": [
    "Add column for word count and change classes to numeric values"
   ]
  },
  {
   "cell_type": "code",
   "execution_count": 24,
   "metadata": {},
   "outputs": [
    {
     "data": {
      "text/html": [
       "<div>\n",
       "<style scoped>\n",
       "    .dataframe tbody tr th:only-of-type {\n",
       "        vertical-align: middle;\n",
       "    }\n",
       "\n",
       "    .dataframe tbody tr th {\n",
       "        vertical-align: top;\n",
       "    }\n",
       "\n",
       "    .dataframe thead th {\n",
       "        text-align: right;\n",
       "    }\n",
       "</style>\n",
       "<table border=\"1\" class=\"dataframe\">\n",
       "  <thead>\n",
       "    <tr style=\"text-align: right;\">\n",
       "      <th></th>\n",
       "      <th>text</th>\n",
       "      <th>word_count</th>\n",
       "      <th>class</th>\n",
       "    </tr>\n",
       "  </thead>\n",
       "  <tbody>\n",
       "    <tr>\n",
       "      <th>0</th>\n",
       "      <td>arts arts 13960349</td>\n",
       "      <td>3</td>\n",
       "      <td>0</td>\n",
       "    </tr>\n",
       "    <tr>\n",
       "      <th>1</th>\n",
       "      <td>rip bilbo ian holm has passed away aged 88</td>\n",
       "      <td>9</td>\n",
       "      <td>0</td>\n",
       "    </tr>\n",
       "    <tr>\n",
       "      <th>2</th>\n",
       "      <td>let me start by saying that i enjoy many aspec...</td>\n",
       "      <td>1276</td>\n",
       "      <td>0</td>\n",
       "    </tr>\n",
       "    <tr>\n",
       "      <th>3</th>\n",
       "      <td>i have recut pjs hobbit trilogy into a single ...</td>\n",
       "      <td>15</td>\n",
       "      <td>0</td>\n",
       "    </tr>\n",
       "    <tr>\n",
       "      <th>4</th>\n",
       "      <td>it was awfully nice of the 13 dwarves to empty...</td>\n",
       "      <td>24</td>\n",
       "      <td>0</td>\n",
       "    </tr>\n",
       "  </tbody>\n",
       "</table>\n",
       "</div>"
      ],
      "text/plain": [
       "                                                text  word_count  class\n",
       "0                                 arts arts 13960349           3      0\n",
       "1         rip bilbo ian holm has passed away aged 88           9      0\n",
       "2  let me start by saying that i enjoy many aspec...        1276      0\n",
       "3  i have recut pjs hobbit trilogy into a single ...          15      0\n",
       "4  it was awfully nice of the 13 dwarves to empty...          24      0"
      ]
     },
     "execution_count": 24,
     "metadata": {},
     "output_type": "execute_result"
    }
   ],
   "source": [
    "corpus_clean['word_count'] = [len(row.split()) for row in corpus_clean['text']]\n",
    "corpus_clean['class'] = corpus_raw['class'].map({'Narnia':2, 'asoiaf':1, 'tolkienfans':0})\n",
    "corpus_clean.head()"
   ]
  },
  {
   "cell_type": "markdown",
   "metadata": {},
   "source": [
    "Drop documents that are only 3 words or less"
   ]
  },
  {
   "cell_type": "code",
   "execution_count": 25,
   "metadata": {},
   "outputs": [
    {
     "data": {
      "text/plain": [
       "(11097, 2)"
      ]
     },
     "execution_count": 25,
     "metadata": {},
     "output_type": "execute_result"
    }
   ],
   "source": [
    "corpus_clean.drop(corpus_clean[corpus_clean['word_count']<=3].index, axis=0, inplace=True)\n",
    "corpus_clean.drop('word_count', axis=1, inplace=True)\n",
    "corpus_clean.shape"
   ]
  },
  {
   "cell_type": "markdown",
   "metadata": {},
   "source": [
    "Again note the stratification of the classes"
   ]
  },
  {
   "cell_type": "code",
   "execution_count": 26,
   "metadata": {},
   "outputs": [
    {
     "data": {
      "text/plain": [
       "1    0.480490\n",
       "0    0.444084\n",
       "2    0.075426\n",
       "Name: class, dtype: float64"
      ]
     },
     "execution_count": 26,
     "metadata": {},
     "output_type": "execute_result"
    }
   ],
   "source": [
    "corpus_clean['class'].value_counts(normalize=True)"
   ]
  },
  {
   "cell_type": "markdown",
   "metadata": {},
   "source": [
    "Save the clean corpus as .csv"
   ]
  },
  {
   "cell_type": "code",
   "execution_count": 27,
   "metadata": {},
   "outputs": [],
   "source": [
    "corpus_clean.to_csv('../data/corpus.csv', header=True, index=False)"
   ]
  },
  {
   "cell_type": "code",
   "execution_count": null,
   "metadata": {},
   "outputs": [],
   "source": []
  }
 ],
 "metadata": {
  "kernelspec": {
   "display_name": "Python 3",
   "language": "python",
   "name": "python3"
  },
  "language_info": {
   "codemirror_mode": {
    "name": "ipython",
    "version": 3
   },
   "file_extension": ".py",
   "mimetype": "text/x-python",
   "name": "python",
   "nbconvert_exporter": "python",
   "pygments_lexer": "ipython3",
   "version": "3.7.7"
  }
 },
 "nbformat": 4,
 "nbformat_minor": 4
}
