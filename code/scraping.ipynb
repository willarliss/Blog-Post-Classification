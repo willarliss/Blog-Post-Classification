{
 "cells": [
  {
   "cell_type": "code",
   "execution_count": 12,
   "metadata": {},
   "outputs": [],
   "source": [
    "import praw\n",
    "import pandas as pd\n",
    "import reddit_info as r\n",
    "import time\n",
    "import numpy as np"
   ]
  },
  {
   "cell_type": "markdown",
   "metadata": {},
   "source": [
    "These are the SubReddits to be scraped"
   ]
  },
  {
   "cell_type": "code",
   "execution_count": 13,
   "metadata": {},
   "outputs": [
    {
     "name": "stdout",
     "output_type": "stream",
     "text": [
      "https://www.reddit.com/r/tolkienfans/\n",
      "https://www.reddit.com/r/asoiaf/\n",
      "https://www.reddit.com/r/Narnia/\n"
     ]
    }
   ],
   "source": [
    "print('https://www.reddit.com/r/tolkienfans/')\n",
    "print('https://www.reddit.com/r/asoiaf/')\n",
    "print('https://www.reddit.com/r/Narnia/')"
   ]
  },
  {
   "cell_type": "markdown",
   "metadata": {},
   "source": [
    "This is the scaffolding to set up a single request from PRAW"
   ]
  },
  {
   "cell_type": "code",
   "execution_count": 14,
   "metadata": {},
   "outputs": [],
   "source": [
    "reddit = praw.Reddit(\n",
    "    client_id=r.use_script, \n",
    "    client_secret=r.secret, \n",
    "    user_agent=r.app, \n",
    "    username=r.username, \n",
    "    password=r.password,\n",
    "    )"
   ]
  },
  {
   "cell_type": "markdown",
   "metadata": {},
   "source": [
    "This is the execution of a request"
   ]
  },
  {
   "cell_type": "code",
   "execution_count": 34,
   "metadata": {},
   "outputs": [],
   "source": [
    "subs = ['tolkienfans', 'asoiaf', 'Narnia']\n",
    "subreddit = reddit.subreddit(got)"
   ]
  },
  {
   "cell_type": "code",
   "execution_count": 16,
   "metadata": {},
   "outputs": [
    {
     "name": "stdout",
     "output_type": "stream",
     "text": [
      "In the inside the episode (which they need to stop making because it's embarrassing), D&D said they put Arya on the ground in King’s Landing to make it more real and have more tension because it’s a character people care about. \n",
      "\n",
      "It did the flat out opposite for me, we've seen Arya survive such ridiculous situations that I knew she wasn't going to die so it took me out of the immersion and made me resent the scene. \n",
      "\n",
      "If they’re gonna put a character in that scene, make it  Davos. He grew up in flea bottom. It would have been much more impactful to see his reactions and he would have been at a believable risk of being killed.\n",
      "\n",
      "Edit: It just fits better for Davos to see the devastation of seeing children burning alive considering his past with Shireen.\n"
     ]
    }
   ],
   "source": [
    "for submission in subreddit.top(limit=1):\n",
    "    print(submission.selftext)"
   ]
  },
  {
   "cell_type": "markdown",
   "metadata": {},
   "source": [
    "---\n",
    "# Web-Scrape Subreddits"
   ]
  },
  {
   "cell_type": "markdown",
   "metadata": {},
   "source": [
    "Create an empty dataframe to store requests"
   ]
  },
  {
   "cell_type": "code",
   "execution_count": 17,
   "metadata": {},
   "outputs": [],
   "source": [
    "corpus_main = pd.DataFrame([], columns=['class', 'id', 'text'])"
   ]
  },
  {
   "cell_type": "markdown",
   "metadata": {},
   "source": [
    "Save headings and bodies from each post into the dataframe. Iterate over all three reddits. Request from the \"top\" category "
   ]
  },
  {
   "cell_type": "code",
   "execution_count": 18,
   "metadata": {},
   "outputs": [
    {
     "name": "stdout",
     "output_type": "stream",
     "text": [
      "top\n",
      "tolkienfans 100 0.0\n",
      "tolkienfans 200 0.0\n",
      "tolkienfans 300 0.0\n",
      "tolkienfans 400 0.0\n",
      "tolkienfans 500 0.0\n",
      "tolkienfans 600 0.0\n",
      "tolkienfans 700 0.0\n",
      "tolkienfans 800 0.0\n",
      "tolkienfans 900 0.0\n",
      "asoiaf 100 0.0\n",
      "asoiaf 200 0.0\n",
      "asoiaf 300 0.0\n",
      "asoiaf 400 0.0\n",
      "asoiaf 500 0.0\n",
      "asoiaf 600 0.0\n",
      "asoiaf 700 0.0\n",
      "asoiaf 800 0.0\n",
      "asoiaf 900 0.0\n",
      "Narnia 100 0.0\n",
      "Narnia 200 0.0\n",
      "Narnia 300 0.0\n",
      "Narnia 400 0.0\n",
      "Narnia 500 0.0\n",
      "Narnia 600 0.0\n"
     ]
    },
    {
     "data": {
      "text/plain": [
       "(5266, 3)"
      ]
     },
     "execution_count": 18,
     "metadata": {},
     "output_type": "execute_result"
    }
   ],
   "source": [
    "print('top')\n",
    "\n",
    "corpus = []\n",
    "for sub in ['tolkienfans', 'asoiaf', 'Narnia']:\n",
    "    \n",
    "    subreddit = reddit.subreddit(sub)\n",
    "    \n",
    "    count = 1\n",
    "    for submission in subreddit.top(limit=1000):\n",
    "        \n",
    "        t0 = time.time()\n",
    "        \n",
    "        post = {\n",
    "            'class': sub,\n",
    "            'id': submission.id+'0',\n",
    "            'text': submission.selftext.strip(),\n",
    "            }\n",
    "        corpus.append(post)\n",
    "        \n",
    "        post = {\n",
    "            'class': sub,\n",
    "            'id': submission.id+'1',\n",
    "            'text': submission.title.strip(),\n",
    "            }\n",
    "        corpus.append(post)\n",
    "        \n",
    "        t1 = time.time()\n",
    "        \n",
    "        if count%100 == 0:\n",
    "            print(sub, count, t1-t0)\n",
    "        count += 1\n",
    "        \n",
    "corpus_df = pd.DataFrame(corpus)\n",
    "corpus_main = corpus_main.append(corpus_df)\n",
    "corpus_main.shape"
   ]
  },
  {
   "cell_type": "markdown",
   "metadata": {},
   "source": [
    "Save headings and bodies from each post into the dataframe. Iterate over all three reddits. Request from the \"hot\" category "
   ]
  },
  {
   "cell_type": "code",
   "execution_count": 19,
   "metadata": {},
   "outputs": [
    {
     "name": "stdout",
     "output_type": "stream",
     "text": [
      "hot\n",
      "tolkienfans 100 0.0\n",
      "tolkienfans 200 0.0\n",
      "tolkienfans 300 0.0\n",
      "tolkienfans 400 0.0\n",
      "tolkienfans 500 0.0\n",
      "tolkienfans 600 0.0\n",
      "tolkienfans 700 0.0\n",
      "tolkienfans 800 0.0\n",
      "tolkienfans 900 0.0\n",
      "asoiaf 100 0.0\n",
      "asoiaf 200 0.0\n",
      "asoiaf 300 0.0\n",
      "asoiaf 400 0.0\n",
      "asoiaf 500 0.0\n",
      "asoiaf 600 0.0\n",
      "asoiaf 700 0.0\n",
      "Narnia 100 0.0\n",
      "Narnia 200 0.0\n",
      "Narnia 300 0.0\n",
      "Narnia 400 0.0\n",
      "Narnia 500 0.0\n",
      "Narnia 600 0.0\n"
     ]
    },
    {
     "data": {
      "text/plain": [
       "(10020, 3)"
      ]
     },
     "execution_count": 19,
     "metadata": {},
     "output_type": "execute_result"
    }
   ],
   "source": [
    "print('hot')\n",
    "\n",
    "corpus = []\n",
    "for sub in ['tolkienfans', 'asoiaf', 'Narnia']:\n",
    "    \n",
    "    subreddit = reddit.subreddit(sub)\n",
    "    \n",
    "    count = 1\n",
    "    for submission in subreddit.hot(limit=1000):\n",
    "        \n",
    "        t0 = time.time()\n",
    "        \n",
    "        post = {\n",
    "            'class': sub,\n",
    "            'id': submission.id+'0',\n",
    "            'text': submission.selftext.strip(),\n",
    "            }\n",
    "        corpus.append(post)\n",
    "        \n",
    "        post = {\n",
    "            'class': sub,\n",
    "            'id': submission.id+'1',\n",
    "            'text': submission.title.strip(),\n",
    "            }\n",
    "        corpus.append(post)\n",
    "        \n",
    "        t1 = time.time()\n",
    "        \n",
    "        if count%100 == 0:\n",
    "            print(sub, count, t1-t0)\n",
    "        count += 1\n",
    "        \n",
    "corpus_df = pd.DataFrame(corpus)\n",
    "corpus_main = corpus_main.append(corpus_df)\n",
    "corpus_main.shape"
   ]
  },
  {
   "cell_type": "markdown",
   "metadata": {},
   "source": [
    "Save headings and bodies from each post into the dataframe. Iterate over all three reddits. Request from the \"controversial\" category "
   ]
  },
  {
   "cell_type": "code",
   "execution_count": 20,
   "metadata": {},
   "outputs": [
    {
     "name": "stdout",
     "output_type": "stream",
     "text": [
      "controversial\n",
      "tolkienfans 100 0.0\n",
      "tolkienfans 200 0.0\n",
      "tolkienfans 300 0.0\n",
      "tolkienfans 400 0.0\n",
      "tolkienfans 500 0.0\n",
      "tolkienfans 600 0.0\n",
      "tolkienfans 700 0.0\n",
      "tolkienfans 800 0.0\n",
      "tolkienfans 900 0.0\n",
      "asoiaf 100 0.0\n",
      "asoiaf 200 0.0\n",
      "asoiaf 300 0.0\n",
      "asoiaf 400 0.0\n",
      "asoiaf 500 0.0\n",
      "asoiaf 600 0.0\n",
      "asoiaf 700 0.0\n",
      "asoiaf 800 0.0\n",
      "asoiaf 900 0.0\n",
      "Narnia 100 0.0\n",
      "Narnia 200 0.0\n",
      "Narnia 300 0.0\n",
      "Narnia 400 0.0\n",
      "Narnia 500 0.0\n",
      "Narnia 600 0.0\n"
     ]
    },
    {
     "data": {
      "text/plain": [
       "(15288, 3)"
      ]
     },
     "execution_count": 20,
     "metadata": {},
     "output_type": "execute_result"
    }
   ],
   "source": [
    "print('controversial')\n",
    "\n",
    "corpus = []\n",
    "for sub in ['tolkienfans', 'asoiaf', 'Narnia']:\n",
    "    \n",
    "    subreddit = reddit.subreddit(sub)\n",
    "    \n",
    "    count = 1\n",
    "    for submission in subreddit.controversial(limit=1000):\n",
    "        \n",
    "        t0 = time.time()\n",
    "        \n",
    "        post = {\n",
    "            'class': sub,\n",
    "            'id': submission.id+'0',\n",
    "            'text': submission.selftext.strip(),\n",
    "            }\n",
    "        corpus.append(post)\n",
    "        \n",
    "        post = {\n",
    "            'class': sub,\n",
    "            'id': submission.id+'1',\n",
    "            'text': submission.title.strip(),\n",
    "            }\n",
    "        corpus.append(post)\n",
    "        \n",
    "        t1 = time.time()\n",
    "        \n",
    "        if count%100 == 0:\n",
    "            print(sub, count, t1-t0)\n",
    "        count += 1\n",
    "        \n",
    "corpus_df = pd.DataFrame(corpus)\n",
    "corpus_main = corpus_main.append(corpus_df)\n",
    "corpus_main.shape"
   ]
  },
  {
   "cell_type": "markdown",
   "metadata": {},
   "source": [
    "Save headings and bodies from each post into the dataframe. Iterate over all three reddits. Request from the \"new\" category "
   ]
  },
  {
   "cell_type": "code",
   "execution_count": 21,
   "metadata": {},
   "outputs": [
    {
     "name": "stdout",
     "output_type": "stream",
     "text": [
      "new\n",
      "tolkienfans 100 0.0\n",
      "tolkienfans 200 0.0\n",
      "tolkienfans 300 0.0\n",
      "tolkienfans 400 0.0\n",
      "tolkienfans 500 0.0\n",
      "tolkienfans 600 0.0\n",
      "tolkienfans 700 0.0\n",
      "tolkienfans 800 0.0\n",
      "tolkienfans 900 0.0\n",
      "tolkienfans 1000 0.0\n",
      "asoiaf 100 0.0\n",
      "asoiaf 200 0.0\n",
      "asoiaf 300 0.0\n",
      "asoiaf 400 0.0\n",
      "asoiaf 500 0.0\n",
      "asoiaf 600 0.0\n",
      "asoiaf 700 0.0\n",
      "asoiaf 800 0.0\n",
      "asoiaf 900 0.0\n",
      "Narnia 100 0.0\n",
      "Narnia 200 0.0\n",
      "Narnia 300 0.0\n",
      "Narnia 400 0.0\n",
      "Narnia 500 0.0\n",
      "Narnia 600 0.0\n"
     ]
    },
    {
     "data": {
      "text/plain": [
       "(20556, 3)"
      ]
     },
     "execution_count": 21,
     "metadata": {},
     "output_type": "execute_result"
    }
   ],
   "source": [
    "print('new')\n",
    "\n",
    "corpus = []\n",
    "for sub in ['tolkienfans', 'asoiaf', 'Narnia']:\n",
    "    \n",
    "    subreddit = reddit.subreddit(sub)\n",
    "    \n",
    "    count = 1\n",
    "    for submission in subreddit.new(limit=1000):\n",
    "        \n",
    "        t0 = time.time()\n",
    "        \n",
    "        post = {\n",
    "            'class': sub,\n",
    "            'id': submission.id+'0',\n",
    "            'text': submission.selftext.strip(),\n",
    "            }\n",
    "        corpus.append(post)\n",
    "        \n",
    "        post = {\n",
    "            'class': sub,\n",
    "            'id': submission.id+'1',\n",
    "            'text': submission.title.strip(),\n",
    "            }\n",
    "        corpus.append(post)\n",
    "        \n",
    "        t1 = time.time()\n",
    "        \n",
    "        if count%100 == 0:\n",
    "            print(sub, count, t1-t0)\n",
    "        count += 1\n",
    "        \n",
    "corpus_df = pd.DataFrame(corpus)\n",
    "corpus_main = corpus_main.append(corpus_df)\n",
    "corpus_main.shape"
   ]
  },
  {
   "cell_type": "markdown",
   "metadata": {},
   "source": [
    "---"
   ]
  },
  {
   "cell_type": "code",
   "execution_count": 22,
   "metadata": {},
   "outputs": [
    {
     "data": {
      "text/plain": [
       "(20556, 3)"
      ]
     },
     "execution_count": 22,
     "metadata": {},
     "output_type": "execute_result"
    }
   ],
   "source": [
    "corpus_main.head()\n",
    "corpus_main.shape"
   ]
  },
  {
   "cell_type": "markdown",
   "metadata": {},
   "source": [
    "Drop duplicates by ID"
   ]
  },
  {
   "cell_type": "code",
   "execution_count": 23,
   "metadata": {},
   "outputs": [
    {
     "data": {
      "text/plain": [
       "(12826, 3)"
      ]
     },
     "execution_count": 23,
     "metadata": {},
     "output_type": "execute_result"
    }
   ],
   "source": [
    "corpus_main.drop_duplicates('id', keep='first', inplace=True)\n",
    "corpus_main.shape"
   ]
  },
  {
   "cell_type": "markdown",
   "metadata": {},
   "source": [
    "Remove blank documents"
   ]
  },
  {
   "cell_type": "code",
   "execution_count": 24,
   "metadata": {},
   "outputs": [
    {
     "data": {
      "text/plain": [
       "(11594, 3)"
      ]
     },
     "execution_count": 24,
     "metadata": {},
     "output_type": "execute_result"
    }
   ],
   "source": [
    "corpus_main['text'] = np.where(corpus_main['text']=='', np.nan, corpus_main['text'])\n",
    "corpus_main.dropna(axis=0, inplace=True)\n",
    "corpus_main.shape"
   ]
  },
  {
   "cell_type": "markdown",
   "metadata": {},
   "source": [
    "Save dataframe as .csv"
   ]
  },
  {
   "cell_type": "code",
   "execution_count": 30,
   "metadata": {},
   "outputs": [],
   "source": [
    "corpus_main.to_csv('../data/corpus_raw.csv', header=True, index=False)"
   ]
  },
  {
   "cell_type": "markdown",
   "metadata": {},
   "source": [
    "---"
   ]
  },
  {
   "cell_type": "markdown",
   "metadata": {},
   "source": [
    "Reload dataframe to verify integrity"
   ]
  },
  {
   "cell_type": "code",
   "execution_count": 31,
   "metadata": {},
   "outputs": [
    {
     "data": {
      "text/plain": [
       "(11594, 3)"
      ]
     },
     "execution_count": 31,
     "metadata": {},
     "output_type": "execute_result"
    }
   ],
   "source": [
    "df = pd.read_csv('../data/corpus_raw.csv')\n",
    "df.shape"
   ]
  },
  {
   "cell_type": "code",
   "execution_count": 32,
   "metadata": {},
   "outputs": [
    {
     "data": {
      "text/plain": [
       "asoiaf         0.463688\n",
       "tolkienfans    0.452820\n",
       "Narnia         0.083491\n",
       "Name: class, dtype: float64"
      ]
     },
     "execution_count": 32,
     "metadata": {},
     "output_type": "execute_result"
    }
   ],
   "source": [
    "df['class'].value_counts(normalize=True)"
   ]
  },
  {
   "cell_type": "code",
   "execution_count": 33,
   "metadata": {},
   "outputs": [
    {
     "data": {
      "text/plain": [
       "asoiaf         5376\n",
       "tolkienfans    5250\n",
       "Narnia          968\n",
       "Name: class, dtype: int64"
      ]
     },
     "execution_count": 33,
     "metadata": {},
     "output_type": "execute_result"
    }
   ],
   "source": [
    "df['class'].value_counts()"
   ]
  },
  {
   "cell_type": "code",
   "execution_count": null,
   "metadata": {},
   "outputs": [],
   "source": []
  }
 ],
 "metadata": {
  "kernelspec": {
   "display_name": "Python 3",
   "language": "python",
   "name": "python3"
  },
  "language_info": {
   "codemirror_mode": {
    "name": "ipython",
    "version": 3
   },
   "file_extension": ".py",
   "mimetype": "text/x-python",
   "name": "python",
   "nbconvert_exporter": "python",
   "pygments_lexer": "ipython3",
   "version": "3.7.7"
  }
 },
 "nbformat": 4,
 "nbformat_minor": 4
}
